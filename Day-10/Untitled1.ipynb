{
 "cells": [
  {
   "cell_type": "code",
   "execution_count": 1,
   "id": "c521545a-81ec-4aa8-940c-7e7cda07d661",
   "metadata": {},
   "outputs": [
    {
     "name": "stdout",
     "output_type": "stream",
     "text": [
      "jupyter lab\n"
     ]
    }
   ],
   "source": [
    "print('jupyter lab')"
   ]
  },
  {
   "cell_type": "markdown",
   "id": "ca17f5b7-6bef-4ab7-86cd-ccbffb3878df",
   "metadata": {},
   "source": [
    "# Jupyter Lab\n",
    "## JUpyter LAb"
   ]
  },
  {
   "cell_type": "code",
   "execution_count": null,
   "id": "a7ad0e99-3fa1-417d-9478-1d6851c9df18",
   "metadata": {},
   "outputs": [],
   "source": []
  }
 ],
 "metadata": {
  "kernelspec": {
   "display_name": "Python [conda env:base] *",
   "language": "python",
   "name": "conda-base-py"
  },
  "language_info": {
   "codemirror_mode": {
    "name": "ipython",
    "version": 3
   },
   "file_extension": ".py",
   "mimetype": "text/x-python",
   "name": "python",
   "nbconvert_exporter": "python",
   "pygments_lexer": "ipython3",
   "version": "3.13.5"
  }
 },
 "nbformat": 4,
 "nbformat_minor": 5
}
