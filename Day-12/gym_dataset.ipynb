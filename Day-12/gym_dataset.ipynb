{
 "cells": [
  {
   "cell_type": "code",
   "execution_count": 5,
   "id": "11384b28-79e1-4ead-bdaa-73a02304cb50",
   "metadata": {},
   "outputs": [],
   "source": [
    "import matplotlib.pyplot as plt\n",
    "import pandas as pd\n",
    "df_gym=pd.read_csv(r'C:\\Users\\DELL\\Coding\\aiml_training\\Day-12\\gym_members.csv')"
   ]
  },
  {
   "cell_type": "code",
   "execution_count": 7,
   "id": "62415438-849b-4de7-bf30-22bbc44e96aa",
   "metadata": {},
   "outputs": [
    {
     "data": {
      "text/html": [
       "<div>\n",
       "<style scoped>\n",
       "    .dataframe tbody tr th:only-of-type {\n",
       "        vertical-align: middle;\n",
       "    }\n",
       "\n",
       "    .dataframe tbody tr th {\n",
       "        vertical-align: top;\n",
       "    }\n",
       "\n",
       "    .dataframe thead th {\n",
       "        text-align: right;\n",
       "    }\n",
       "</style>\n",
       "<table border=\"1\" class=\"dataframe\">\n",
       "  <thead>\n",
       "    <tr style=\"text-align: right;\">\n",
       "      <th></th>\n",
       "      <th>Age</th>\n",
       "      <th>Gender</th>\n",
       "      <th>Weight (kg)</th>\n",
       "      <th>Height (m)</th>\n",
       "      <th>Max_BPM</th>\n",
       "      <th>Avg_BPM</th>\n",
       "      <th>Resting_BPM</th>\n",
       "      <th>Session_Duration (hours)</th>\n",
       "      <th>Calories_Burned</th>\n",
       "      <th>Workout_Type</th>\n",
       "      <th>Fat_Percentage</th>\n",
       "      <th>Water_Intake (liters)</th>\n",
       "      <th>Workout_Frequency (days/week)</th>\n",
       "      <th>Experience_Level</th>\n",
       "      <th>BMI</th>\n",
       "    </tr>\n",
       "  </thead>\n",
       "  <tbody>\n",
       "    <tr>\n",
       "      <th>0</th>\n",
       "      <td>56</td>\n",
       "      <td>Male</td>\n",
       "      <td>88.3</td>\n",
       "      <td>1.71</td>\n",
       "      <td>180</td>\n",
       "      <td>157</td>\n",
       "      <td>60</td>\n",
       "      <td>1.69</td>\n",
       "      <td>1313.0</td>\n",
       "      <td>Yoga</td>\n",
       "      <td>12.6</td>\n",
       "      <td>3.5</td>\n",
       "      <td>4</td>\n",
       "      <td>3</td>\n",
       "      <td>30.20</td>\n",
       "    </tr>\n",
       "    <tr>\n",
       "      <th>1</th>\n",
       "      <td>46</td>\n",
       "      <td>Female</td>\n",
       "      <td>74.9</td>\n",
       "      <td>1.53</td>\n",
       "      <td>179</td>\n",
       "      <td>151</td>\n",
       "      <td>66</td>\n",
       "      <td>1.30</td>\n",
       "      <td>883.0</td>\n",
       "      <td>HIIT</td>\n",
       "      <td>33.9</td>\n",
       "      <td>2.1</td>\n",
       "      <td>4</td>\n",
       "      <td>2</td>\n",
       "      <td>32.00</td>\n",
       "    </tr>\n",
       "    <tr>\n",
       "      <th>2</th>\n",
       "      <td>32</td>\n",
       "      <td>Female</td>\n",
       "      <td>68.1</td>\n",
       "      <td>1.66</td>\n",
       "      <td>167</td>\n",
       "      <td>122</td>\n",
       "      <td>54</td>\n",
       "      <td>1.11</td>\n",
       "      <td>677.0</td>\n",
       "      <td>Cardio</td>\n",
       "      <td>33.4</td>\n",
       "      <td>2.3</td>\n",
       "      <td>4</td>\n",
       "      <td>2</td>\n",
       "      <td>24.71</td>\n",
       "    </tr>\n",
       "    <tr>\n",
       "      <th>3</th>\n",
       "      <td>25</td>\n",
       "      <td>Male</td>\n",
       "      <td>53.2</td>\n",
       "      <td>1.70</td>\n",
       "      <td>190</td>\n",
       "      <td>164</td>\n",
       "      <td>56</td>\n",
       "      <td>0.59</td>\n",
       "      <td>532.0</td>\n",
       "      <td>Strength</td>\n",
       "      <td>28.8</td>\n",
       "      <td>2.1</td>\n",
       "      <td>3</td>\n",
       "      <td>1</td>\n",
       "      <td>18.41</td>\n",
       "    </tr>\n",
       "    <tr>\n",
       "      <th>4</th>\n",
       "      <td>38</td>\n",
       "      <td>Male</td>\n",
       "      <td>46.1</td>\n",
       "      <td>1.79</td>\n",
       "      <td>188</td>\n",
       "      <td>158</td>\n",
       "      <td>68</td>\n",
       "      <td>0.64</td>\n",
       "      <td>556.0</td>\n",
       "      <td>Strength</td>\n",
       "      <td>29.2</td>\n",
       "      <td>2.8</td>\n",
       "      <td>3</td>\n",
       "      <td>1</td>\n",
       "      <td>14.39</td>\n",
       "    </tr>\n",
       "  </tbody>\n",
       "</table>\n",
       "</div>"
      ],
      "text/plain": [
       "   Age  Gender  Weight (kg)  Height (m)  Max_BPM  Avg_BPM  Resting_BPM  \\\n",
       "0   56    Male         88.3        1.71      180      157           60   \n",
       "1   46  Female         74.9        1.53      179      151           66   \n",
       "2   32  Female         68.1        1.66      167      122           54   \n",
       "3   25    Male         53.2        1.70      190      164           56   \n",
       "4   38    Male         46.1        1.79      188      158           68   \n",
       "\n",
       "   Session_Duration (hours)  Calories_Burned Workout_Type  Fat_Percentage  \\\n",
       "0                      1.69           1313.0         Yoga            12.6   \n",
       "1                      1.30            883.0         HIIT            33.9   \n",
       "2                      1.11            677.0       Cardio            33.4   \n",
       "3                      0.59            532.0     Strength            28.8   \n",
       "4                      0.64            556.0     Strength            29.2   \n",
       "\n",
       "   Water_Intake (liters)  Workout_Frequency (days/week)  Experience_Level  \\\n",
       "0                    3.5                              4                 3   \n",
       "1                    2.1                              4                 2   \n",
       "2                    2.3                              4                 2   \n",
       "3                    2.1                              3                 1   \n",
       "4                    2.8                              3                 1   \n",
       "\n",
       "     BMI  \n",
       "0  30.20  \n",
       "1  32.00  \n",
       "2  24.71  \n",
       "3  18.41  \n",
       "4  14.39  "
      ]
     },
     "execution_count": 7,
     "metadata": {},
     "output_type": "execute_result"
    }
   ],
   "source": [
    "df_gym.head()"
   ]
  },
  {
   "cell_type": "code",
   "execution_count": 14,
   "id": "f2603805-c5be-4c1e-b3bd-b111c8e1766b",
   "metadata": {},
   "outputs": [
    {
     "name": "stdout",
     "output_type": "stream",
     "text": [
      "Index(['Cardio', 'HIIT', 'Strength', 'Yoga'], dtype='object', name='Workout_Type')\n",
      "[884.51372549 925.80542986 910.69767442 903.18828452]\n"
     ]
    }
   ],
   "source": [
    "avgCal=df_gym.groupby('Workout_Type')['Calories_Burned'].mean()\n",
    "print(avgCal.index)\n",
    "print(avgCal.values)"
   ]
  },
  {
   "cell_type": "code",
   "execution_count": 15,
   "id": "3ffe4f3a-7004-4b9e-bf1f-d5717bca6c9f",
   "metadata": {},
   "outputs": [
    {
     "data": {
      "image/png": "[encoded data removed]",
      "text/plain": [
       "<Figure size 1000x1000 with 1 Axes>"
      ]
     },
     "metadata": {},
     "output_type": "display_data"
    }
   ],
   "source": [
    "\n",
    "avgCal_idx=avgCal.index\n",
    "avgCal_val=avgCal.values\n",
    "plt.figure(figsize=(10,10))\n",
    "plt.scatter(avgCal_idx,avgCal_val,color='red',label='Workout', s=100, marker='p')\n",
    "#plt.scatter(players,match2,color='blue',label='Match Two', s=100, marker='d')\n",
    "#plt.scatter(players,match3,color='yellow',label='Match Three', s=100, )\n",
    "plt.xlabel('Workout_Type')\n",
    "plt.ylabel('Calories_Burned')\n",
    "plt.legend(loc='upper left')\n",
    "\n",
    "plt.grid(True,linestyle='--',alpha=0.5)\n",
    "plt.show()"
   ]
  },
  {
   "cell_type": "code",
   "execution_count": null,
   "id": "1a87c4ce-10ae-4f3b-b4b8-718f4c908664",
   "metadata": {},
   "outputs": [],
   "source": []
  }
 ],
 "metadata": {
  "kernelspec": {
   "display_name": "Python [conda env:base] *",
   "language": "python",
   "name": "conda-base-py"
  },
  "language_info": {
   "codemirror_mode": {
    "name": "ipython",
    "version": 3
   },
   "file_extension": ".py",
   "mimetype": "text/x-python",
   "name": "python",
   "nbconvert_exporter": "python",
   "pygments_lexer": "ipython3",
   "version": "3.13.5"
  }
 },
 "nbformat": 4,
 "nbformat_minor": 5
}
