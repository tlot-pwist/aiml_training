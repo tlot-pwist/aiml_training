{
 "cells": [
  {
   "cell_type": "code",
   "execution_count": 1,
   "id": "ee23425e-e3c8-44ef-b530-9434edca367b",
   "metadata": {},
   "outputs": [],
   "source": [
    "import pandas as pd\n",
    "import numpy as np"
   ]
  },
  {
   "cell_type": "code",
   "execution_count": 4,
   "id": "f99574b5-0313-4a2e-865a-1ed47ce0aeef",
   "metadata": {},
   "outputs": [
    {
     "name": "stdout",
     "output_type": "stream",
     "text": [
      "original data frame\n",
      "    Name  Age  Marks\n",
      "0   John   20     85\n",
      "1  Alice   22     90\n",
      "2    Bob   21     78\n",
      "3   Sara   23     92\n",
      "\n",
      "Location : Label Based\n",
      "Name     Bob\n",
      "Marks     78\n",
      "Name: 2, dtype: object\n"
     ]
    }
   ],
   "source": [
    "df=pd.read_excel('students.xlsx')\n",
    "print('original data frame')\n",
    "print(df)\n",
    "print()\n",
    "print('Location : Label Based')\n",
    "print(df.loc[2,['Name','Marks']])"
   ]
  },
  {
   "cell_type": "code",
   "execution_count": 5,
   "id": "80c96996-761f-45d9-83f2-9383eabc8155",
   "metadata": {},
   "outputs": [
    {
     "name": "stdout",
     "output_type": "stream",
     "text": [
      "original data frame\n",
      "    Name  Age  Marks\n",
      "0   John   20     85\n",
      "1  Alice   22     90\n",
      "2    Bob   21     78\n",
      "3   Sara   23     92\n",
      "\n",
      "Location : index Based\n",
      "Age      21\n",
      "Marks    78\n",
      "Name: 2, dtype: object\n"
     ]
    }
   ],
   "source": [
    "print('original data frame')\n",
    "print(df)\n",
    "print()\n",
    "print('Location : index Based')\n",
    "print(df.iloc[2,[1,2]])"
   ]
  },
  {
   "cell_type": "markdown",
   "id": "e395068e-4b0f-4ada-8142-dc75391412d3",
   "metadata": {},
   "source": [
    "# axis in numpy: \n",
    "##### 1. axis 0: vertical direction: works column wise\n",
    "##### 2. axis 1: horizon direction: works rows wise"
   ]
  },
  {
   "cell_type": "code",
   "execution_count": 12,
   "id": "c3fdc966-8784-47f6-ad58-0dc09f10ddcf",
   "metadata": {},
   "outputs": [
    {
     "name": "stdout",
     "output_type": "stream",
     "text": [
      "original data frame:\n",
      "[[45 50 49]\n",
      " [30 45 49]]\n",
      "\n",
      "sum of each column: [75 95 98]\n",
      "sum of each row: [144 124]\n"
     ]
    }
   ],
   "source": [
    "# 2 students marks in 3 subjects\n",
    "# [[45,50,49],[30,45,49]]\n",
    "\n",
    "arr_marks=np.array([[45,50,49],[30,45,49]])\n",
    "print('original data frame:')\n",
    "print(arr_marks)\n",
    "print()\n",
    "print('sum of each column:',np.sum(arr_marks,axis=0))\n",
    "print('sum of each row:',np.sum(arr_marks,axis=1))"
   ]
  },
  {
   "cell_type": "code",
   "execution_count": 17,
   "id": "14dd9885-4070-46d7-990b-81defeb68acd",
   "metadata": {},
   "outputs": [
    {
     "name": "stdout",
     "output_type": "stream",
     "text": [
      "student with top marks: Sara\n",
      "student with lowest marks: Bob\n"
     ]
    }
   ],
   "source": [
    "top_marks=df.loc[df['Marks'].idxmax(),'Name']\n",
    "low_marks=df.loc[df['Marks'].idxmin(),'Name']\n",
    "print('student with top marks:',top_marks)\n",
    "print('student with lowest marks:',low_marks)"
   ]
  },
  {
   "cell_type": "code",
   "execution_count": 19,
   "id": "2e77aeda-23a0-42ce-b07e-b0badd1b4076",
   "metadata": {},
   "outputs": [
    {
     "name": "stdout",
     "output_type": "stream",
     "text": [
      "3\n",
      "top student is: Sara\n"
     ]
    }
   ],
   "source": [
    "top_index=df['Marks'].idxmax()\n",
    "top_stud=df.iloc[top_index,df.columns.get_loc('Name')]\n",
    "print(top_index)\n",
    "print('top student is:',top_stud)"
   ]
  },
  {
   "cell_type": "code",
   "execution_count": null,
   "id": "1c35f729-cd65-4f24-94b1-bcd0442e416b",
   "metadata": {},
   "outputs": [],
   "source": []
  }
 ],
 "metadata": {
  "kernelspec": {
   "display_name": "Python [conda env:base] *",
   "language": "python",
   "name": "conda-base-py"
  },
  "language_info": {
   "codemirror_mode": {
    "name": "ipython",
    "version": 3
   },
   "file_extension": ".py",
   "mimetype": "text/x-python",
   "name": "python",
   "nbconvert_exporter": "python",
   "pygments_lexer": "ipython3",
   "version": "3.13.5"
  }
 },
 "nbformat": 4,
 "nbformat_minor": 5
}
