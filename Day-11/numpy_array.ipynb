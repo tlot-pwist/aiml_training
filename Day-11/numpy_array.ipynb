{
 "cells": [
  {
   "cell_type": "code",
   "execution_count": null,
   "id": "bfa25f71-b4bd-4eda-a25f-11e2fee07652",
   "metadata": {},
   "outputs": [],
   "source": []
  },
  {
   "cell_type": "code",
   "execution_count": 5,
   "id": "c3ca5581-1bc0-4819-b444-bdac0b684502",
   "metadata": {},
   "outputs": [],
   "source": [
    "import numpy as np"
   ]
  },
  {
   "cell_type": "code",
   "execution_count": 7,
   "id": "b589a9d8-3afc-4812-a491-e14c64d77a5f",
   "metadata": {},
   "outputs": [],
   "source": [
    "arr=np.array([10,20,30,40,50,70,60,80,90])"
   ]
  },
  {
   "cell_type": "code",
   "execution_count": 8,
   "id": "e90c2188-4e09-403e-9b6c-fceee6450ff9",
   "metadata": {},
   "outputs": [
    {
     "name": "stdout",
     "output_type": "stream",
     "text": [
      "[10 20 30 40 50 70 60 80 90]\n"
     ]
    }
   ],
   "source": [
    "print(arr)"
   ]
  },
  {
   "cell_type": "markdown",
   "id": "971260d9-edc1-4a95-8a79-9d30a1f31e52",
   "metadata": {},
   "source": [
    "### 2d array"
   ]
  },
  {
   "cell_type": "code",
   "execution_count": 11,
   "id": "7f72b3f4-4eee-42d4-90a8-210e136bff87",
   "metadata": {},
   "outputs": [
    {
     "name": "stdout",
     "output_type": "stream",
     "text": [
      "[[10 20 30]\n",
      " [40 50 70]]\n"
     ]
    }
   ],
   "source": [
    "array_2d=np.array([[10,20,30,],[40,50,70]])\n",
    "print(array_2d)"
   ]
  },
  {
   "cell_type": "markdown",
   "id": "2d9bee93-d95f-4b36-9c65-3ee3152c12ba",
   "metadata": {},
   "source": [
    "## array 3D"
   ]
  },
  {
   "cell_type": "code",
   "execution_count": 13,
   "id": "4284dafb-edd4-4d15-9683-5f79075ab3c3",
   "metadata": {},
   "outputs": [
    {
     "name": "stdout",
     "output_type": "stream",
     "text": [
      "[[[10 20 30]\n",
      "  [40 50 70]\n",
      "  [60 80 90]]]\n"
     ]
    }
   ],
   "source": [
    "array_3d=np.array([[[10,20,30,],[40,50,70],[60,80,90]]])\n",
    "print(array_3d)"
   ]
  },
  {
   "cell_type": "markdown",
   "id": "8728a5de-de02-4553-a759-132659414b69",
   "metadata": {},
   "source": [
    "### dimension of numpy array"
   ]
  },
  {
   "cell_type": "code",
   "execution_count": 19,
   "id": "2ace4a94-e91e-49e6-b441-22a868b58ad2",
   "metadata": {},
   "outputs": [
    {
     "name": "stdout",
     "output_type": "stream",
     "text": [
      "first array dimension: 1\n"
     ]
    }
   ],
   "source": [
    "print('first array dimension:',arr.ndim)"
   ]
  },
  {
   "cell_type": "code",
   "execution_count": 14,
   "id": "d9da8ee9-31e3-47d7-a6ca-9f4f22ecf2ea",
   "metadata": {},
   "outputs": [
    {
     "name": "stdout",
     "output_type": "stream",
     "text": [
      "2d array dimension: 2\n"
     ]
    }
   ],
   "source": [
    "print('2d array dimension:',array_2d.ndim)"
   ]
  },
  {
   "cell_type": "code",
   "execution_count": 15,
   "id": "19811216-2d8a-4b1b-84f5-cf2e68280b22",
   "metadata": {},
   "outputs": [
    {
     "name": "stdout",
     "output_type": "stream",
     "text": [
      "3d array dimension: 3\n"
     ]
    }
   ],
   "source": [
    "print('3d array dimension:',array_3d.ndim)"
   ]
  },
  {
   "cell_type": "markdown",
   "id": "e6c35551-a8ef-487d-bad7-e8223eb213c9",
   "metadata": {},
   "source": [
    "### write an array of 5 students"
   ]
  },
  {
   "cell_type": "markdown",
   "id": "eaf7f5bd-5a6c-4fdc-86e5-dcf908478297",
   "metadata": {},
   "source": [
    "#### marks : 80,70,75,99,89"
   ]
  },
  {
   "cell_type": "code",
   "execution_count": 18,
   "id": "7def7842-a882-49a0-a8c9-486b35199487",
   "metadata": {},
   "outputs": [
    {
     "name": "stdout",
     "output_type": "stream",
     "text": [
      "array of marks:\n",
      "[80 70 75 99 89]\n"
     ]
    }
   ],
   "source": [
    "array_marks=np.array([80,70,75,99,89])\n",
    "print('array of marks:')\n",
    "print(array_marks)"
   ]
  },
  {
   "cell_type": "markdown",
   "id": "0c0cdd5f-1b84-4221-aaef-5095ed1ae9d3",
   "metadata": {},
   "source": [
    "### write an array to take marks of 5 students in 3 subjects using numpy\n",
    "#### math, english, chemistry\n",
    "#### [[50,45,49],[34,67,99],[28,44,83],[63,75,90],[64,71,96]]"
   ]
  },
  {
   "cell_type": "code",
   "execution_count": 29,
   "id": "078e6722-b8aa-459d-9686-500e1f79e9df",
   "metadata": {},
   "outputs": [
    {
     "name": "stdout",
     "output_type": "stream",
     "text": [
      "2d array example\n",
      "[[50 45 49]\n",
      " [34 67 99]\n",
      " [28 44 83]\n",
      " [63 75 90]\n",
      " [64 71 96]]\n"
     ]
    }
   ],
   "source": [
    "stud_marks_2d=np.array([[50,45,49],[34,67,99],[28,44,83],[63,75,90],[64,71,96]])\n",
    "print('2d array example')\n",
    "print(stud_marks_2d)\n",
    "\n"
   ]
  },
  {
   "cell_type": "markdown",
   "id": "56815fec-2255-44d7-bb86-6ce07487e448",
   "metadata": {},
   "source": [
    "### write an array to take marks of 4 students in 3 subjects for 2 semester using numpy\n",
    "#### students name : zaman, izam, azfar, danial\n",
    "#### math, english, chemistry\n",
    "#### 2 semesters z: sem1, sem2\n",
    "#### array: 4 * 3 * 2\n",
    "#### [[50,45],[67,49],[34,67],[35,99],[28,44],[70,83],[63,75],[53,90],[64,71][48,96],[31,78],[95,40]]"
   ]
  },
  {
   "cell_type": "code",
   "execution_count": 28,
   "id": "9472f399-b179-4b66-b3b1-6cfa6a87bc05",
   "metadata": {},
   "outputs": [
    {
     "name": "stdout",
     "output_type": "stream",
     "text": [
      "[[[50 45]\n",
      "  [67 49]\n",
      "  [34 67]]\n",
      "\n",
      " [[35 99]\n",
      "  [28 44]\n",
      "  [70 83]]\n",
      "\n",
      " [[63 75]\n",
      "  [53 90]\n",
      "  [64 71]]\n",
      "\n",
      " [[48 96]\n",
      "  [31 78]\n",
      "  [95 40]]]\n"
     ]
    }
   ],
   "source": [
    "stud_marks_3d=np.array([\n",
    "    ([50,45],[67,49],[34,67]),\n",
    "    ([35,99],[28,44],[70,83]),\n",
    "    ([63,75],[53,90],[64,71]),\n",
    "    ([48,96],[31,78],[95,40])\n",
    "                            ])\n",
    "print(stud_marks_3d)\n"
   ]
  },
  {
   "cell_type": "markdown",
   "id": "6fac87eb-be49-49f6-88a7-7ebf6dbe1076",
   "metadata": {},
   "source": [
    "### 3D array of weather of 2 cities in 3 days for 3 times a day morning, noon, evening\n",
    "#### city: Kuala Lumpur, Delhi\n",
    "#### saturday, sunday, monday\n",
    "#### 3 time slots: morning, noon, evening"
   ]
  },
  {
   "cell_type": "code",
   "execution_count": 43,
   "id": "b1be6218-6cf6-470b-b7bd-362d8d5af0b0",
   "metadata": {},
   "outputs": [
    {
     "name": "stdout",
     "output_type": "stream",
     "text": [
      "[[[23 37 33]\n",
      "  [24 39 32]\n",
      "  [25 37 30]]\n",
      "\n",
      " [[20 31 21]\n",
      "  [23 29 25]\n",
      "  [19 33 27]]]\n",
      "shape of array: (2, 3, 3)\n",
      "size of array: 18\n",
      "dimension of array: 3\n",
      "type of array: int64\n"
     ]
    }
   ],
   "source": [
    "weather_3d=np.array([\n",
    "    ([23,37,33],[24,39,32],[25,37,30]),\n",
    "    ([20,31,21],[23,29,25],[19,33,27])\n",
    "    ])\n",
    "print(weather_3d)\n",
    "print('shape of array:',weather_3d.shape)\n",
    "print('size of array:',weather_3d.size)\n",
    "print('dimension of array:',weather_3d.ndim)\n",
    "print('type of array:',weather_3d.dtype)"
   ]
  },
  {
   "cell_type": "markdown",
   "id": "123732dc-b71a-4539-9e2d-2c31c891736e",
   "metadata": {},
   "source": [
    "# basic info"
   ]
  },
  {
   "cell_type": "code",
   "execution_count": 33,
   "id": "c105a612-578e-4420-ba5b-49f5aca803ba",
   "metadata": {},
   "outputs": [
    {
     "name": "stdout",
     "output_type": "stream",
     "text": [
      "[10 20 30 40 50 70 60 80 90]\n"
     ]
    }
   ],
   "source": [
    "print(arr)"
   ]
  },
  {
   "cell_type": "code",
   "execution_count": 36,
   "id": "0d36d484-c9c7-457f-b27f-8b79cc2a5a4c",
   "metadata": {},
   "outputs": [
    {
     "name": "stdout",
     "output_type": "stream",
     "text": [
      "shape of array: (9,)\n",
      "size of array: 9\n",
      "dimension of array: 1\n",
      "type of array: int64\n"
     ]
    }
   ],
   "source": [
    "print('shape of array:',arr.shape)\n",
    "print('size of array:',arr.size)\n",
    "print('dimension of array:',arr.ndim)\n",
    "print('type of array:',arr.dtype)"
   ]
  },
  {
   "cell_type": "code",
   "execution_count": 42,
   "id": "0036e3cb-0e11-4161-84a3-e293b6f2e770",
   "metadata": {},
   "outputs": [
    {
     "name": "stdout",
     "output_type": "stream",
     "text": [
      "students: ['danial' 'qaisara' 'raif' 'azfar' 'maman']\n",
      "shape of array: (5,)\n",
      "size of array: 5\n",
      "dimension of array: 1\n",
      "type of array: <U7\n"
     ]
    }
   ],
   "source": [
    "students=np.array(['danial','qaisara','raif','azfar','maman'])\n",
    "print('students:',students)\n",
    "print('shape of array:',students.shape)\n",
    "print('size of array:',students.size)\n",
    "print('dimension of array:',students.ndim)\n",
    "print('type of array:',students.dtype)"
   ]
  },
  {
   "cell_type": "markdown",
   "id": "676dbf02-a903-44c9-99ba-c45b6397497c",
   "metadata": {},
   "source": [
    "# mathematical operations"
   ]
  },
  {
   "cell_type": "code",
   "execution_count": 47,
   "id": "ccb6ac2d-c8b3-45ec-b92e-8c0022f76b83",
   "metadata": {},
   "outputs": [
    {
     "name": "stdout",
     "output_type": "stream",
     "text": [
      "[10 20 30 40 50 70 60 80 90]\n",
      "sum of the array: 450\n",
      "mean of the array: 50.0\n",
      "max of the array: 90\n",
      "min of the array: 10\n",
      "maximum index of the array: 8\n",
      "minimum index of the array: 0\n"
     ]
    }
   ],
   "source": [
    "print(arr)\n",
    "total=np.sum(arr)\n",
    "mean=np.mean(arr)\n",
    "min=np.min(arr)\n",
    "max=np.max(arr)\n",
    "idx_max=np.argmax(arr)\n",
    "idx_min=np.argmin(arr)\n",
    "print('sum of the array:',total)\n",
    "print('mean of the array:',mean)\n",
    "print('max of the array:',max)\n",
    "print('min of the array:',min)\n",
    "print('maximum index of the array:',idx_max)\n",
    "print('minimum index of the array:',idx_min)"
   ]
  },
  {
   "cell_type": "code",
   "execution_count": 60,
   "id": "b05ebac7-c529-4fb3-8902-2c198402dd9d",
   "metadata": {},
   "outputs": [
    {
     "name": "stdout",
     "output_type": "stream",
     "text": [
      "is there elements greater that 83: True\n",
      "all greater than 83: False\n",
      "all greater than 44: False\n",
      "values greater than 83: (array([ 4,  7,  9, 10]),)\n"
     ]
    }
   ],
   "source": [
    "arr_sort=np.array([28,51,18,77,90,12,44,83,36,158,400,6,34])\n",
    "print('is there elements greater that 83:',np.any(arr_sort>83))\n",
    "print(f'all greater than 83: {np.all(arr_sort>83)}')\n",
    "print(f'all greater than 44: {np.all(arr_sort>44)}')\n",
    "print('values greater than 83:',np.where(arr_sort>77))\n"
   ]
  },
  {
   "cell_type": "code",
   "execution_count": 62,
   "id": "ffa656f2-46a6-4710-85c5-a5aea9ff9dd4",
   "metadata": {},
   "outputs": [
    {
     "name": "stdout",
     "output_type": "stream",
     "text": [
      "all number greater than 83\n"
     ]
    },
    {
     "ename": "ValueError",
     "evalue": "too many values to unpack (expected 2)",
     "output_type": "error",
     "traceback": [
      "\u001b[1;31m---------------------------------------------------------------------------\u001b[0m",
      "\u001b[1;31mValueError\u001b[0m                                Traceback (most recent call last)",
      "Cell \u001b[1;32mIn[62], line 2\u001b[0m\n\u001b[0;32m      1\u001b[0m \u001b[38;5;28mprint\u001b[39m(\u001b[38;5;124m'\u001b[39m\u001b[38;5;124mall number greater than 83\u001b[39m\u001b[38;5;124m'\u001b[39m)\n\u001b[1;32m----> 2\u001b[0m \u001b[38;5;28;01mfor\u001b[39;00m i,j \u001b[38;5;129;01min\u001b[39;00m np\u001b[38;5;241m.\u001b[39mwhere(arr_sort\u001b[38;5;241m>\u001b[39m\u001b[38;5;241m83\u001b[39m):\n\u001b[0;32m      3\u001b[0m     \u001b[38;5;28mprint\u001b[39m(j)\n",
      "\u001b[1;31mValueError\u001b[0m: too many values to unpack (expected 2)"
     ]
    }
   ],
   "source": [
    "print('all number greater than 83')\n",
    "for idx in np.where(arr_sort>83):\n",
    "    print(j)"
   ]
  },
  {
   "cell_type": "code",
   "execution_count": null,
   "id": "0c54318f-99ed-43ed-8ccd-ebc5fb7e7c0b",
   "metadata": {},
   "outputs": [],
   "source": []
  },
  {
   "cell_type": "code",
   "execution_count": null,
   "id": "32c1e8c9-b165-496d-a3de-3b9c5dd203ed",
   "metadata": {},
   "outputs": [],
   "source": []
  }
 ],
 "metadata": {
  "kernelspec": {
   "display_name": "Python [conda env:base] *",
   "language": "python",
   "name": "conda-base-py"
  },
  "language_info": {
   "codemirror_mode": {
    "name": "ipython",
    "version": 3
   },
   "file_extension": ".py",
   "mimetype": "text/x-python",
   "name": "python",
   "nbconvert_exporter": "python",
   "pygments_lexer": "ipython3",
   "version": "3.13.5"
  }
 },
 "nbformat": 4,
 "nbformat_minor": 5
}
