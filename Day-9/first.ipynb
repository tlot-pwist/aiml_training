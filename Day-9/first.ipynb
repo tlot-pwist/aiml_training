{
 "cells": [
  {
   "cell_type": "code",
   "execution_count": null,
   "id": "e6b6b815-9643-45b7-98d3-3239a3a96e8a",
   "metadata": {},
   "outputs": [],
   "source": [
    "#Welcome to notebook"
   ]
  },
  {
   "cell_type": "code",
   "execution_count": 1,
   "id": "519e7b14-266f-4ed2-80f9-c58e8a635f34",
   "metadata": {},
   "outputs": [
    {
     "name": "stdout",
     "output_type": "stream",
     "text": [
      "welcome to jupyter notebook!\n"
     ]
    }
   ],
   "source": [
    "print('welcome to jupyter notebook!')"
   ]
  },
  {
   "cell_type": "code",
   "execution_count": 1,
   "id": "94d2896e-c339-484e-aaef-d9089f0f9d07",
   "metadata": {},
   "outputs": [
    {
     "name": "stdout",
     "output_type": "stream",
     "text": [
      "5\n",
      "6\n",
      "7\n",
      "8\n",
      "3\n",
      "2\n"
     ]
    }
   ],
   "source": [
    "numbers=[5,6,7,8,3,2]\n",
    "for number in numbers:\n",
    "    print(number)"
   ]
  },
  {
   "cell_type": "code",
   "execution_count": null,
   "id": "99706f86-67cf-4ce2-8d1b-111ecfcdd8ee",
   "metadata": {},
   "outputs": [],
   "source": []
  },
  {
   "cell_type": "code",
   "execution_count": null,
   "id": "48d6c634-808a-4749-a152-d4c81bea0f04",
   "metadata": {},
   "outputs": [],
   "source": []
  }
 ],
 "metadata": {
  "kernelspec": {
   "display_name": "Python [conda env:base] *",
   "language": "python",
   "name": "conda-base-py"
  },
  "language_info": {
   "codemirror_mode": {
    "name": "ipython",
    "version": 3
   },
   "file_extension": ".py",
   "mimetype": "text/x-python",
   "name": "python",
   "nbconvert_exporter": "python",
   "pygments_lexer": "ipython3",
   "version": "3.13.5"
  }
 },
 "nbformat": 4,
 "nbformat_minor": 5
}
